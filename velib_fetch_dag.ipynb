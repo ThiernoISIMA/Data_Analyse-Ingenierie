{
 "cells": [
  {
   "cell_type": "code",
   "execution_count": null,
   "id": "4771b958",
   "metadata": {},
   "outputs": [
    {
     "ename": "ModuleNotFoundError",
     "evalue": "No module named 'airflow'",
     "output_type": "error",
     "traceback": [
      "\u001b[31m---------------------------------------------------------------------------\u001b[39m",
      "\u001b[31mModuleNotFoundError\u001b[39m                       Traceback (most recent call last)",
      "\u001b[36mCell\u001b[39m\u001b[36m \u001b[39m\u001b[32mIn[6]\u001b[39m\u001b[32m, line 3\u001b[39m\n\u001b[32m      1\u001b[39m \u001b[38;5;66;03m# mon pipeline DAG\u001b[39;00m\n\u001b[32m      2\u001b[39m \u001b[38;5;28;01mfrom\u001b[39;00m\u001b[38;5;250m \u001b[39m\u001b[34;01memail\u001b[39;00m\u001b[34;01m.\u001b[39;00m\u001b[34;01mpolicy\u001b[39;00m\u001b[38;5;250m \u001b[39m\u001b[38;5;28;01mimport\u001b[39;00m default\n\u001b[32m----> \u001b[39m\u001b[32m3\u001b[39m \u001b[38;5;28;01mfrom\u001b[39;00m\u001b[38;5;250m \u001b[39m\u001b[34;01mairflow\u001b[39;00m\u001b[38;5;250m \u001b[39m\u001b[38;5;28;01mimport\u001b[39;00m DAG\n\u001b[32m      4\u001b[39m \u001b[38;5;28;01mfrom\u001b[39;00m\u001b[38;5;250m \u001b[39m\u001b[34;01mairflow\u001b[39;00m\u001b[34;01m.\u001b[39;00m\u001b[34;01moperators\u001b[39;00m\u001b[34;01m.\u001b[39;00m\u001b[34;01mpython_operator\u001b[39;00m\u001b[38;5;250m \u001b[39m\u001b[38;5;28;01mimport\u001b[39;00m PythonOperator\n\u001b[32m      5\u001b[39m \u001b[38;5;28;01mfrom\u001b[39;00m\u001b[38;5;250m \u001b[39m\u001b[34;01mairflow\u001b[39;00m\u001b[34;01m.\u001b[39;00m\u001b[34;01moperators\u001b[39;00m\u001b[34;01m.\u001b[39;00m\u001b[34;01mbash_operator\u001b[39;00m\u001b[38;5;250m \u001b[39m\u001b[38;5;28;01mimport\u001b[39;00m BashOperator\n",
      "\u001b[31mModuleNotFoundError\u001b[39m: No module named 'airflow'"
     ]
    }
   ],
   "source": [
    "# # mon pipeline DAG\n",
    "# from email.policy import default\n",
    "# from airflow import DAG\n",
    "# from airflow.operators.python_operator import PythonOperator\n",
    "# from airflow.operators.bash_operator import BashOperator\n",
    "# from datetime import datetime, timedelta\n",
    "# from airflow.operators.dummy_operator import DummyOperator\n",
    "# from airflow.operators.email_operator import EmailOperator\n",
    "\n",
    "# default_args = {\n",
    "#     'owner': 'airflow',\n",
    "#     'retries': 1,\n",
    "#     'retry_delay': timedelta(minutes=5),\n",
    "# }\n",
    "\n",
    "# with DAG(\n",
    "#     dag_id='velib_fetch_data',\n",
    "#     default_args=default_args,\n",
    "#     description='Pipeline pour collecter les données Vélib',\n",
    "#     schedule_interval='*/15 * * * *',  # Toutes les 15 min\n",
    "#     start_date=datetime(2024, 1, 1),\n",
    "#     catchup=False,\n",
    "# ) as dag:\n",
    "    \n",
    "#      fetch_data = BashOperator(\n",
    "#         task_id='fetch_velib_data',\n",
    "#         bash_command='python /opt/airflow/dags/scripts/fetch_data.py'\n",
    "       \n",
    "#     )\n",
    "\n",
    "# fetch_data"
   ]
  }
 ],
 "metadata": {
  "kernelspec": {
   "display_name": "venv",
   "language": "python",
   "name": "python3"
  },
  "language_info": {
   "codemirror_mode": {
    "name": "ipython",
    "version": 3
   },
   "file_extension": ".py",
   "mimetype": "text/x-python",
   "name": "python",
   "nbconvert_exporter": "python",
   "pygments_lexer": "ipython3",
   "version": "3.12.10"
  }
 },
 "nbformat": 4,
 "nbformat_minor": 5
}
