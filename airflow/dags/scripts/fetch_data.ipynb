{
 "cells": [
  {
   "cell_type": "code",
   "execution_count": null,
   "id": "31a2df69",
   "metadata": {},
   "outputs": [
    {
     "name": "stdout",
     "output_type": "stream",
     "text": [
      "Les données ont été enregistrées dans le fichier data/stations_2025-05-04_12-11-20.csv\n"
     ]
    }
   ],
   "source": [
    "# script qui va appeler l'API JCDecaux\n",
    "# pour récupérer les stations de vélos\n",
    "from matplotlib.pylab import f\n",
    "import pandas as pd\n",
    "import requests\n",
    "import json\n",
    "import os    \n",
    "from dotenv import load_dotenv\n",
    "from datetime import datetime, timedelta\n",
    "\n",
    "load_dotenv()\n",
    "\n",
    "# Récupération de la clé API depuis le fichier .env\n",
    "API_KEY = os.getenv(\"API_KEY\")\n",
    "CONTRACT_NAME = os.getenv(\"CONTRACT_NAME\")\n",
    "# Récupération de l'URL de l'API JCDecaux\n",
    "\n",
    "API_URL = f\" https://api.jcdecaux.com/vls/v1/stations?contract={CONTRACT_NAME}&apiKey={API_KEY}\"\n",
    "#definition de la fonction fetxh_data\n",
    "def fetch_data() : \n",
    "    # Appel de l'API JCDecaux\n",
    "    response = requests.get(API_URL)\n",
    "\n",
    "    if response.status_code != 200:\n",
    "        # raise Exception(f\"Erreur API JCDecaux: {response.status_code} - {response.text}\")\n",
    "        print(\"Erreur lors de la récupération des données\")\n",
    "        return None\n",
    "    \n",
    "    # Conversion de la réponse en JSON\n",
    "    data = response.json()\n",
    "    df=pd.DataFrame(data)\n",
    "\n",
    "    #ajout d'un timestamp à chaque ligne \n",
    "    df['timestamp'] = datetime.now().strftime(\"%Y-%m-%d %H:%M:%S\")\n",
    "\n",
    "    #creer le dossier data s'il n'existe pas\n",
    "    if not os.path.exists(\"data\"):\n",
    "        os.makedirs(\"data\")\n",
    "    # nom du fichier de sortie\n",
    "    filename = f\"data/stations_{datetime.now().strftime('%Y-%m-%d_%H-%M-%S')}.csv\"\n",
    "    df.to_csv(filename, index=False)\n",
    "    print(f\"Les données ont été enregistrées dans le fichier {filename}\")\n",
    "\n",
    "\n",
    "if __name__ == \"__main__\":\n",
    "    fetch_data()\n",
    "    \n",
    "\n",
    "       \n",
    "\n",
    "\n",
    "\n"
   ]
  }
 ],
 "metadata": {
  "kernelspec": {
   "display_name": "venv",
   "language": "python",
   "name": "python3"
  },
  "language_info": {
   "codemirror_mode": {
    "name": "ipython",
    "version": 3
   },
   "file_extension": ".py",
   "mimetype": "text/x-python",
   "name": "python",
   "nbconvert_exporter": "python",
   "pygments_lexer": "ipython3",
   "version": "3.12.10"
  }
 },
 "nbformat": 4,
 "nbformat_minor": 5
}
